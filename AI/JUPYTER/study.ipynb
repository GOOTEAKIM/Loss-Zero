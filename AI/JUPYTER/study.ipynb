{
 "cells": [
  {
   "cell_type": "markdown",
   "id": "05df6f76-d9b9-4d5b-8922-13453e7f36d0",
   "metadata": {},
   "source": [
    "## Setup"
   ]
  },
  {
   "cell_type": "markdown",
   "id": "ff8d880a-7ceb-44bf-9df7-054b1649d2fa",
   "metadata": {},
   "source": [
    "**라이브러리 & GPU 서버 할당**"
   ]
  },
  {
   "cell_type": "code",
   "execution_count": 3,
   "id": "9ad9f254-6fcc-4841-be2f-190a2ebd8002",
   "metadata": {},
   "outputs": [],
   "source": [
    "import os\n",
    "import torch\n",
    "from ultralytics import YOLO\n",
    "\n",
    "os.environ[\"CUDA_DEVICE_ORDER\"] = \"PCI_BUS_ID\"\n",
    "os.environ[\"CUDA_VISIBLE_DEVICES\"] = \"6\""
   ]
  },
  {
   "cell_type": "markdown",
   "id": "b81b93e8-6151-42fa-8438-cce0e7606d0b",
   "metadata": {},
   "source": [
    "**PyTorch에서 GPU 사용 여부와 할당된 GPU 확인**"
   ]
  },
  {
   "cell_type": "code",
   "execution_count": 4,
   "id": "fd275933-4eb8-4016-8a56-c823204bc41c",
   "metadata": {},
   "outputs": [
    {
     "name": "stdout",
     "output_type": "stream",
     "text": [
      "현재 PyTorch에서 인식된 GPU 개수: 1\n",
      "현재 사용 가능한 GPU 이름: Tesla V100S-PCIE-32GB\n"
     ]
    }
   ],
   "source": [
    "if torch.cuda.is_available():\n",
    "    print(f\"현재 PyTorch에서 인식된 GPU 개수: {torch.cuda.device_count()}\")\n",
    "    print(f\"현재 사용 가능한 GPU 이름: {torch.cuda.get_device_name(0)}\")\n",
    "\n",
    "    # 현재 가상 장치의 번호를 0으로 설정\n",
    "    torch.cuda.set_device(0)"
   ]
  },
  {
   "cell_type": "markdown",
   "id": "b7f2f4d1-2c1e-4e71-9121-c0778cae7b10",
   "metadata": {},
   "source": [
    "## Study"
   ]
  },
  {
   "cell_type": "markdown",
   "id": "72ce1484-5134-4c1e-86e6-468f1fd28985",
   "metadata": {},
   "source": [
    "**YOLO 모델 생성**"
   ]
  },
  {
   "cell_type": "code",
   "execution_count": null,
   "id": "db17a4f4-caa3-45f1-a377-a769f99985b5",
   "metadata": {},
   "outputs": [],
   "source": [
    "model = YOLO(\"/home/j-k11e202/YOLO/runs/detect/last_train/weights/best.pt\")\n",
    "\n",
    "model.train(\n",
    "    data=\"/home/j-k11e202/YOLO/defect_zero/data.yaml\",\n",
    "    device='cuda:6',\n",
    "    name='last_v11'\n",
    "    epochs=150,                      # 학습 반복 횟수 (Epochs)\n",
    "    imgsz=640,                       # 입력 이미지 크기 (이미지의 가로/세로 픽셀 수)\n",
    "    cache=False,                     # 데이터셋을 메모리에 캐싱 여부 (캐싱 시 학습 속도 증가)\n",
    "    workers=8,                       # 데이터 로드 시 사용할 CPU 워커 수 (병렬 처리)\n",
    "    lr0=0.01,                        # 초기 학습률 (Learning Rate)\n",
    "    lrf=0.01,                        # 학습률 감소 비율 (Learning Rate Final)\n",
    "    momentum=0.937,                  # 모멘텀 값 (Momentum)\n",
    "    weight_decay=0.0005,             # 가중치 감소 (Weight Decay, 과적합 방지)\n",
    "    warmup_epochs=3.0,               # 워밍업 Epoch 수 (초기 학습 속도 증가)\n",
    "    warmup_momentum=0.8,             # 워밍업 단계에서 모멘텀 값\n",
    "    warmup_bias_lr=0.1,              # 워밍업 단계에서 바이어스 학습률 (Bias Learning Rate)\n",
    "    \n",
    "    # 손실 함수 가중치 설정\n",
    "    box=7.5,                         # 바운딩 박스 손실 가중치 (Box Loss)\n",
    "    cls=0.5,                         # 클래스 손실 가중치 (Class Loss)\n",
    "    dfl=1.5,                         # DFL(Distribution Focal Loss) 가중치\n",
    "    pose=12.0,                       # 포즈 추정 손실 가중치 (Pose Loss)\n",
    "    kobj=1.0,                        # 키포인트 객체 손실 가중치 (Key Object Loss)\n",
    "\n",
    "    # 데이터 증강 설정 (HSV 색 공간 조정)\n",
    "    hsv_h=0.015,                     # 색조(Hue) 변환 범위\n",
    "    hsv_s=0.7,                       # 채도(Saturation) 변환 범위\n",
    "    hsv_v=0.4,                       # 명도(Value) 변환 범위\n",
    ")"
   ]
  },
  {
   "cell_type": "markdown",
   "id": "1c87f011-70c7-4e2b-8ffb-59fc89103ae0",
   "metadata": {},
   "source": [
    "## Transform"
   ]
  },
  {
   "cell_type": "code",
   "execution_count": null,
   "id": "b413f681-f673-4dfb-b3d3-1e8a30f5c561",
   "metadata": {},
   "outputs": [],
   "source": [
    "# Load a model\n",
    "model = YOLO(\"./best.pt\")\n",
    "\n",
    "# Export the model\n",
    "model.export(format=\"edgetpu\", verbose=True)"
   ]
  }
 ],
 "metadata": {
  "kernelspec": {
   "display_name": "Python 3 (ipykernel)",
   "language": "python",
   "name": "python3"
  },
  "language_info": {
   "codemirror_mode": {
    "name": "ipython",
    "version": 3
   },
   "file_extension": ".py",
   "mimetype": "text/x-python",
   "name": "python",
   "nbconvert_exporter": "python",
   "pygments_lexer": "ipython3",
   "version": "3.10.10"
  }
 },
 "nbformat": 4,
 "nbformat_minor": 5
}
