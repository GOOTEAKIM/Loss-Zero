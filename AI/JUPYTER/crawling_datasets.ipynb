{
 "cells": [
  {
   "cell_type": "code",
   "execution_count": null,
   "id": "1ed29f60-1b97-4ee7-bc68-52725854607d",
   "metadata": {},
   "outputs": [],
   "source": [
    "from selenium.webdriver.support.ui import WebDriverWait\n",
    "from selenium.webdriver.support import expected_conditions as EC\n",
    "from selenium import webdriver \n",
    "from selenium.webdriver.chrome.service import Service \n",
    "from selenium.webdriver.common.by import By\n",
    "from selenium.webdriver.common.keys import Keys\n",
    "import urllib.request\n",
    "import time"
   ]
  },
  {
   "cell_type": "code",
   "execution_count": null,
   "id": "cde127ce-4298-474a-b965-6d441e9f372a",
   "metadata": {},
   "outputs": [],
   "source": [
    "def crawling():\n",
    "    # 크롬 브라우저 열기\n",
    "    service = Service(executable_path = \"chromedriver.exe\")\n",
    "    driver = webdriver.Chrome()\n",
    "    driver.get(\"https://www.google.co.kr/imghp?hl=ko&ogbl\")\n",
    "\n",
    "    # 크롬 Browser에서 검색하기\n",
    "    input_element = driver.find_element(By.CLASS_NAME, \"gLFyf\")\n",
    "    input_element.send_keys(\"hex nut\" + Keys.ENTER)\n",
    "\n",
    "    # 스크롤 다운\n",
    "    elem = driver.find_element(By.TAG_NAME, 'body')\n",
    "    for i in range(50):\n",
    "        elem.send_keys(Keys.PAGE_DOWN)\n",
    "        time.sleep(0.1)\n",
    "    print('scroll down complete!')\n",
    "\n",
    "    # 더 보기\n",
    "    try:\n",
    "        view_more_button = WebDriverWait(driver, 10).until(EC.element_to_be_clickable((By.CLASS_NAME, 'mye4qd')))\n",
    "        view_more_button.click()\n",
    "        for i in range(80):\n",
    "            elem.send_keys(Keys.PAGE_DOWN)\n",
    "            time.sleep(0.1)\n",
    "    except:\n",
    "        pass\n",
    "    print('view more complete!')\n",
    "\n",
    "    # 이미지 다운로드하기\n",
    "    images = driver.find_elements(By.CSS_SELECTOR, \".mNsIhb .YQ4gaf\")\n",
    "    links = [image.get_attribute('src') for image in images if image.get_attribute('src') is not None]\n",
    "    print('찾은 이미지의 개수 : ', len(links))\n",
    "\n",
    "    # 경로 설정하기\n",
    "    for k, i in enumerate(links):\n",
    "        url = i\n",
    "        urllib.request.urlretrieve(url, './' + str(k) + '.jpg')\n",
    "\n",
    "    print('다운로드를 완료하였습니다.')"
   ]
  },
  {
   "cell_type": "code",
   "execution_count": null,
   "id": "c3123764-6032-45df-a2ee-d5f6ae20c436",
   "metadata": {},
   "outputs": [],
   "source": [
    "crawling()"
   ]
  }
 ],
 "metadata": {
  "kernelspec": {
   "display_name": "Python 3 (ipykernel)",
   "language": "python",
   "name": "python3"
  },
  "language_info": {
   "codemirror_mode": {
    "name": "ipython",
    "version": 3
   },
   "file_extension": ".py",
   "mimetype": "text/x-python",
   "name": "python",
   "nbconvert_exporter": "python",
   "pygments_lexer": "ipython3",
   "version": "3.10.10"
  }
 },
 "nbformat": 4,
 "nbformat_minor": 5
}
